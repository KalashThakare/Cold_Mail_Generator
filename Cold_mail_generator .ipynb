{
  "nbformat": 4,
  "nbformat_minor": 0,
  "metadata": {
    "colab": {
      "provenance": []
    },
    "kernelspec": {
      "name": "python3",
      "display_name": "Python 3"
    },
    "language_info": {
      "name": "python"
    }
  },
  "cells": [
    {
      "cell_type": "code",
      "source": [
        "from langchain_groq import ChatGroq"
      ],
      "metadata": {
        "id": "kE4kohmIt3oC"
      },
      "execution_count": null,
      "outputs": []
    },
    {
      "cell_type": "markdown",
      "source": [
        "# Step1: Web scrapping"
      ],
      "metadata": {
        "id": "Ts4z6iBiziNb"
      }
    },
    {
      "cell_type": "markdown",
      "source": [
        "use langchain WebBaseLoader"
      ],
      "metadata": {
        "id": "VtqWMgPxzpvG"
      }
    },
    {
      "cell_type": "code",
      "source": [
        "from langchain_community.document_loaders import WebBaseLoader"
      ],
      "metadata": {
        "id": "iZcgjM36zxCN"
      },
      "execution_count": null,
      "outputs": []
    },
    {
      "cell_type": "code",
      "source": [
        "from langchain_core.prompts import PromptTemplate"
      ],
      "metadata": {
        "id": "Kmy3m02r2Cfz"
      },
      "execution_count": null,
      "outputs": []
    },
    {
      "cell_type": "code",
      "source": [
        "prompt_extract = PromptTemplate.from_template(\n",
        "    \"\"\"\n",
        "            ### SCRAPED TEXT FROM WEBSITE:\n",
        "            {page_data}\n",
        "            ### INSTRUCTION:\n",
        "            The scraped text is from the career's page of a website.\n",
        "            Your job is to extract the job postings and return them in JSON format containing the following keys: `role`, `experience`, `skills` and `description`.\n",
        "            Only return the valid JSON.\n",
        "            ### VALID JSON (NO PREAMBLE):\n",
        "            \"\"\"\n",
        ")"
      ],
      "metadata": {
        "id": "2IcOLoii-u0P"
      },
      "execution_count": null,
      "outputs": []
    },
    {
      "cell_type": "code",
      "source": [
        "chain_extract = prompt_extract | llm\n",
        "res = chain_extract.invoke(input={\"page_data\":page_data})\n",
        "print(res.content)"
      ],
      "metadata": {
        "id": "vUfk4a63_bFF"
      },
      "execution_count": null,
      "outputs": []
    },
    {
      "cell_type": "code",
      "source": [
        "%pip install -qU langchain langchain-openai"
      ],
      "metadata": {
        "id": "OVxC0tVBWJAt"
      },
      "execution_count": null,
      "outputs": []
    },
    {
      "cell_type": "code",
      "source": [
        "from langchain_core.output_parsers import JsonOutputParser\n",
        "\n",
        "json_parser = JsonOutputParser()\n",
        "json_res = json_parser.parse(res.content)\n",
        "print(json_res)\n",
        "type(json_res)"
      ],
      "metadata": {
        "id": "1p3LeFh5_7jd"
      },
      "execution_count": null,
      "outputs": []
    },
    {
      "cell_type": "markdown",
      "source": [
        "Inssert the data in chromaDB"
      ],
      "metadata": {
        "id": "Dd8DPIJzXSrn"
      }
    },
    {
      "cell_type": "code",
      "source": [
        "import pandas as pd"
      ],
      "metadata": {
        "id": "Nlr_lEg_VpwK"
      },
      "execution_count": null,
      "outputs": []
    },
    {
      "cell_type": "code",
      "source": [
        "df = pd.read_csv(\"my_portfolio.csv\")\n",
        "df\n"
      ],
      "metadata": {
        "id": "uylSO8OcXa99"
      },
      "execution_count": null,
      "outputs": []
    },
    {
      "cell_type": "markdown",
      "source": [
        "Now iterate over the above data to store them in database(ChromaDB)"
      ],
      "metadata": {
        "id": "-wLcLbevXxJh"
      }
    },
    {
      "cell_type": "code",
      "source": [
        "pip install chromadb"
      ],
      "metadata": {
        "id": "UELpkr0DXpa-"
      },
      "execution_count": null,
      "outputs": []
    },
    {
      "cell_type": "code",
      "source": [
        "import chromadb as db\n",
        "import uuid\n"
      ],
      "metadata": {
        "id": "ThZ741QDX7yZ"
      },
      "execution_count": null,
      "outputs": []
    },
    {
      "cell_type": "code",
      "source": [
        "client = db.PersistentClient(\"VectoreStore\")\n",
        "## we used persistentClient what that does is create a folder and stores the data in that folder\n",
        "collection = client.get_or_create_collection(name=\"portfolio\")\n",
        "\n",
        "if not collection.count():\n",
        "  for _, row in df.iterrows():\n",
        "    collection.add(documents = row[\"Techstack\"],\n",
        "                   metadatas={\"links\":row[\"Links\"]},\n",
        "                   ids=[str(uuid.uuid4())])"
      ],
      "metadata": {
        "id": "Xv3ZeKnyYIrM"
      },
      "execution_count": null,
      "outputs": []
    },
    {
      "cell_type": "markdown",
      "source": [
        "now will write a Query"
      ],
      "metadata": {
        "id": "N_o5IgyaawAz"
      }
    },
    {
      "cell_type": "code",
      "source": [
        "links = collection.query(\n",
        "    query_texts=job[\"skills\"],\n",
        "    n_results=2,\n",
        ").get(\"metadatas\")\n",
        "links"
      ],
      "metadata": {
        "id": "njqG7oSTZBr0"
      },
      "execution_count": null,
      "outputs": []
    },
    {
      "cell_type": "code",
      "source": [
        "job = json_res[0]\n",
        "job[\"skills\"]\n"
      ],
      "metadata": {
        "id": "KCLxBiYra1vE"
      },
      "execution_count": null,
      "outputs": []
    },
    {
      "cell_type": "markdown",
      "source": [
        "Create a prompt template for generating emails."
      ],
      "metadata": {
        "id": "Eib575kpegxU"
      }
    },
    {
      "cell_type": "code",
      "source": [
        "prompt_email = PromptTemplate.from_template(\n",
        "    \"\"\"\n",
        "        ### JOB DESCRIPTION:\n",
        "        {job_description}\n",
        "\n",
        "        ### INSTRUCTION:\n",
        "        You are Kalash, Founder and developer of CloudDrop. CloudDrop is an AI & Software Consulting company dedicated to facilitating\n",
        "        the seamless integration of business processes through automated tools.\n",
        "        Over our experience, we have empowered numerous enterprises with tailored solutions, fostering scalability,\n",
        "        process optimization, cost reduction, and heightened overall efficiency.\n",
        "        Your job is to write a cold email to the client regarding the job mentioned above describing the capability of CloudDrop\n",
        "        in fulfilling their needs.\n",
        "        Also add the most relevant ones from the following links to showcase Atliq's portfolio: {link_list}\n",
        "        Remember you are Kalash, founder and developer of CloudDrop.\n",
        "        Do not provide a preamble.\n",
        "        ### EMAIL (NO PREAMBLE):\n",
        "\n",
        "        \"\"\"\n",
        ")\n",
        "\n",
        "chain_email = prompt_email | llm\n",
        "res = chain_email.invoke({\"job_description\":str(job), \"link_list\":links})\n",
        "print(res.content)"
      ],
      "metadata": {
        "id": "oy-UJ191bhKi"
      },
      "execution_count": null,
      "outputs": []
    },
    {
      "cell_type": "code",
      "source": [],
      "metadata": {
        "id": "B-VB16I8f_L0"
      },
      "execution_count": null,
      "outputs": []
    }
  ]
}